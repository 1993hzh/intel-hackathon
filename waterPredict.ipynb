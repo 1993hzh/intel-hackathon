{
 "cells": [
  {
   "cell_type": "code",
   "execution_count": null,
   "id": "eef93c28-ad2c-452c-81ae-d7dbaed3e779",
   "metadata": {},
   "outputs": [],
   "source": [
    "# import pandas\n",
    "\n",
    "# import modin.pandas as pd\n",
    "# from modin.config import Engine\n",
    "# Engine.put(\"dask\") "
   ]
  },
  {
   "cell_type": "code",
   "execution_count": null,
   "id": "6e407f73-2c66-4ef6-b283-1c2d47546a3a",
   "metadata": {},
   "outputs": [],
   "source": [
    "import os\n",
    "import daal4py as d4p\n",
    "from xgboost import XGBClassifier\n",
    "import time\n",
    "import warnings\n",
    "import pandas as pd\n",
    "import numpy as np\n",
    "import seaborn as sns\n",
    "import matplotlib.pyplot as plt\n",
    "import matplotlib.colors\n",
    "import plotly.io as pio\n",
    "import plotly.express as px\n",
    "import plotly.graph_objects as go\n",
    "from plotly.subplots import make_subplots\n",
    "\n",
    "pio.renderers.default='notebook_connected' \n",
    "intel_pal, color=['#0071C5','#FCBB13'], ['#7AB5E1','#FCE7B2']\n",
    "temp=dict(layout=go.Layout(font=dict(family=\"Franklin Gothic\", size=12), height=500, width=1000))"
   ]
  },
  {
   "cell_type": "code",
   "execution_count": null,
   "id": "d67a4c13-e6fd-4d44-a824-5172e812bc7e",
   "metadata": {},
   "outputs": [],
   "source": [
    "fig = go.Figure(data=go.Bar(y=[2, 3, 1]))\n",
    "fig.show()"
   ]
  },
  {
   "cell_type": "code",
   "execution_count": null,
   "id": "6281423f-6128-43da-a0cb-52c27aef818e",
   "metadata": {},
   "outputs": [],
   "source": [
    "# from distributed import Client\n",
    "# client = Client()\n",
    "\n",
    "data = pd.read_csv(\"10k_dataset.csv\")\n",
    "data = data.drop('Index', axis=1)\n",
    "print(\"Total rows in the DataFrame:\", len(data))\n",
    "\n",
    "print(data.dtypes)\n",
    "display(data.isna().sum())"
   ]
  },
  {
   "cell_type": "code",
   "execution_count": null,
   "id": "ea0033ee-fc89-4138-bc1b-00f3cef4a5eb",
   "metadata": {},
   "outputs": [],
   "source": [
    "# handle missing values\n",
    "start_fill = time.time()\n",
    "for column in data.columns:\n",
    "    if data[column].dtype == 'object':\n",
    "        mode = data[column].mode().iloc[0]\n",
    "        data[column].fillna(mode, inplace=True)\n",
    "    else:\n",
    "        median = data[column].median()\n",
    "        data[column].fillna(median, inplace=True)\n",
    "\n",
    "end_fill = time.time()\n",
    "print(\"fill missing value took: {:.2f} s\".format(end_fill - start_fill))\n",
    "\n",
    "# drop duplicated rows\n",
    "data = data.drop_duplicates()\n",
    "\n",
    "# transform `Color` to number\n",
    "color_labels, color_unique_values = pd.factorize(data['Color'])\n",
    "data['Color'] = color_labels\n",
    "# transform `Source` to number\n",
    "source_labels, source_unique_values = pd.factorize(data['Source'])\n",
    "data['Source'] = source_labels"
   ]
  },
  {
   "cell_type": "code",
   "execution_count": null,
   "id": "81cdcb5f-31c3-4e46-97df-ea8e8592af0c",
   "metadata": {},
   "outputs": [],
   "source": [
    "display(data.isna().sum())\n",
    "missing = data.isna().sum().sum()\n",
    "duplicates = data.duplicated().sum()\n",
    "print(\"\\nThere are {:,.0f} missing values in the data.\".format(missing))\n",
    "print(\"There are {:,.0f} duplicate records in the data.\".format(duplicates))\n",
    "\n",
    "display(data.head())"
   ]
  },
  {
   "cell_type": "code",
   "execution_count": null,
   "id": "89788cad-352e-4fa1-b1e4-b76fb8d206ba",
   "metadata": {},
   "outputs": [],
   "source": [
    "def display_stats():\n",
    "    \n",
    "    \"\"\"\n",
    "    Function to display descriptive statistics of numerical variables,\n",
    "    includes skewness & kurtosis.   \n",
    "    \"\"\"\n",
    "    \n",
    "    df = data.describe()\n",
    "    skewness = pd.DataFrame(data.skew(numeric_only=True), columns=['skewness']).T\n",
    "    kurtosis = pd.DataFrame(data.kurt(numeric_only=True), columns=['kurtosis']).T\n",
    "    df = pd.concat([df, skewness, kurtosis], axis=0)\n",
    "    display(df.style.format('{:,.3f}').background_gradient(subset=(df.index[1:],df.columns[:]), cmap='GnBu'))\n",
    "\n",
    "display_stats()"
   ]
  },
  {
   "cell_type": "code",
   "execution_count": null,
   "id": "6c1b4053-7ff2-45a4-b008-91c9cae622ee",
   "metadata": {},
   "outputs": [],
   "source": [
    "# show target distribution\n",
    "target=data['Target'].value_counts(normalize=True)\n",
    "print(target)"
   ]
  },
  {
   "cell_type": "code",
   "execution_count": null,
   "id": "bbfacee0-255c-47d8-9c0e-3e54f652d54a",
   "metadata": {},
   "outputs": [],
   "source": [
    "cat_cols,float_cols=[],['Target']\n",
    "for col in data.columns:\n",
    "    if data[col].value_counts().count()<10:\n",
    "        cat_cols.append(col)\n",
    "    else:\n",
    "        float_cols.append(col)\n",
    "        \n",
    "plot_df=data[float_cols]\n",
    "\n",
    "# do not display distribution with column `Month` and `Day`\n",
    "columns_to_drop = ['Month', 'Day']\n",
    "plot_df.drop(columns_to_drop, axis=1, inplace=True)\n",
    "\n",
    "fig, ax = plt.subplots(9,2, figsize=(10,20))\n",
    "fig.suptitle('Distribution of Numerical Variables',fontsize=16)\n",
    "row=0\n",
    "col=[0,1]*9\n",
    "\n",
    "for i, column in enumerate(plot_df.columns[1:-1]):\n",
    "    if (i!=0)&(i%2==0):\n",
    "        row+=1\n",
    "    \n",
    "    sns.kdeplot(\n",
    "        x=column, hue='Target', palette=intel_pal[::-1], hue_order=[1, 0],\n",
    "        label=['State 1', 'State 0'], data=plot_df,\n",
    "        fill=True, linewidth=2.5, legend=False, ax=ax[row, col[i]]\n",
    "    )\n",
    "    \n",
    "    ax[row,col[i]].tick_params(left=False, bottom=False)\n",
    "    ax[row,col[i]].set(title='\\n\\n{}'.format(column), xlabel='', ylabel=('Density' if i%2==0 else ''))\n",
    "\n",
    "handles, _ = ax[0,0].get_legend_handles_labels() \n",
    "fig.legend(labels=['State 1','State 0'], handles=reversed(handles), ncol=2, bbox_to_anchor=(0.18, 0.99))\n",
    "sns.despine(bottom=True, trim=True)\n",
    "plt.tight_layout()"
   ]
  },
  {
   "cell_type": "code",
   "execution_count": null,
   "id": "07efb53e-5f26-4301-9359-2f432dee7726",
   "metadata": {
    "tags": []
   },
   "outputs": [],
   "source": [
    "# fig=make_subplots(rows=9,cols=2, subplot_titles=float_cols[1:])\n",
    "# col=[1,2]*9\n",
    "# row=0\n",
    "# pal=sns.color_palette(\"GnBu\",100).as_hex()[9:][::3]\n",
    "# num_plots = len(data[float_cols].columns[1:-3])\n",
    "\n",
    "# print(data[float_cols].columns[1:-3])\n",
    "\n",
    "# for i, column in enumerate(data[float_cols].columns[1:-3]):\n",
    "#     if i%2==0:\n",
    "#         row+=1\n",
    "#     df = pd.concat([data[column],data['Target']],axis=1)\n",
    "        \n",
    "#     df['bins'] = pd.cut(df[column], 100)\n",
    "#     df['mean'] = df.bins.apply(lambda x: x.mid)\n",
    "#     df = df.groupby('mean')[[column,'Target']].mean()\n",
    "#     df = df.drop_duplicates(subset=[column]).sort_values(by=column)\n",
    "    \n",
    "#     display(df.head())\n",
    "    \n",
    "    \n",
    "#     fig.add_trace(go.Scatter(x=df[column], y=df['Target'], name=column,\n",
    "#                              marker_color=pal[i % len(pal)],showlegend=False),  # Use modulo to keep index within range\n",
    "#                   row=row, col=col[i % num_plots])  # Use modulo to keep index within range\n",
    "#     fig.update_xaxes(zeroline=False, row=row, col=col[i % num_plots])  # Use modulo to keep index within range\n",
    "#     if i%2==0:\n",
    "#         fig.update_yaxes(title='Target Probabilitiy',row=row,col=col[i % num_plots])  # Use modulo to keep index within range\n",
    "# fig.update_layout(template=temp, title='Feature Relationships with Target', \n",
    "#                   hovermode=\"x unified\",height=700,width=900)\n",
    "# fig.show()\n"
   ]
  },
  {
   "cell_type": "code",
   "execution_count": null,
   "id": "c6d21ad7-a602-47a4-a84d-8f047bb77b86",
   "metadata": {},
   "outputs": [],
   "source": []
  }
 ],
 "metadata": {
  "kernelspec": {
   "display_name": "Python 3 (Intel® oneAPI 2023.1)",
   "language": "python",
   "name": "c009-intel_distribution_of_python_3_oneapi-beta05-python"
  },
  "language_info": {
   "codemirror_mode": {
    "name": "ipython",
    "version": 3
   },
   "file_extension": ".py",
   "mimetype": "text/x-python",
   "name": "python",
   "nbconvert_exporter": "python",
   "pygments_lexer": "ipython3",
   "version": "3.9.16"
  }
 },
 "nbformat": 4,
 "nbformat_minor": 5
}
