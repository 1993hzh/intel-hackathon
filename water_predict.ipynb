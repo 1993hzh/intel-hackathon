{
 "cells": [
  {
   "cell_type": "code",
   "execution_count": 1,
   "id": "a07852cb-1ed8-43ec-854e-bd69331d11ab",
   "metadata": {},
   "outputs": [],
   "source": [
    "# import modin.pandas as pd\n",
    "# from modin.config import Engine\n",
    "# Engine.put(\"dask\") "
   ]
  },
  {
   "cell_type": "code",
   "execution_count": 2,
   "id": "359110e3-6cc1-4d94-a090-840972c194d2",
   "metadata": {},
   "outputs": [
    {
     "name": "stderr",
     "output_type": "stream",
     "text": [
      "Intel(R) Extension for Scikit-learn* enabled (https://github.com/intel/scikit-learn-intelex)\n"
     ]
    }
   ],
   "source": [
    "from sklearnex import patch_sklearn\n",
    "patch_sklearn()"
   ]
  },
  {
   "cell_type": "code",
   "execution_count": 3,
   "id": "cab3c734-b132-4a3f-8469-367449e6dc93",
   "metadata": {},
   "outputs": [],
   "source": [
    "import os\n",
    "import time\n",
    "import warnings\n",
    "import pandas as pd\n",
    "import numpy as np\n",
    "\n",
    "from xgboost import XGBClassifier\n",
    "from sklearn.model_selection import train_test_split, StratifiedKFold, GridSearchCV, RandomizedSearchCV\n",
    "from sklearn.metrics import roc_auc_score, roc_curve, auc, accuracy_score, f1_score\n",
    "from sklearn.metrics import precision_recall_curve, average_precision_score\n",
    "from sklearn.svm import SVC\n",
    "from sklearn.neural_network import MLPClassifier\n",
    "from sklearn.preprocessing import StandardScaler, OneHotEncoder, RobustScaler\n",
    "from sklearn.experimental import enable_iterative_imputer\n",
    "from sklearn.ensemble import RandomForestRegressor, RandomForestClassifier\n",
    "from sklearn.impute import SimpleImputer, KNNImputer, IterativeImputer\n",
    "from sklearn.tree import DecisionTreeRegressor\n",
    "from sklearn.linear_model import BayesianRidge\n",
    "\n",
    "import daal4py as d4p\n",
    "import matplotlib.colors\n",
    "import plotly.graph_objects as go\n",
    "from plotly.subplots import make_subplots"
   ]
  },
  {
   "cell_type": "code",
   "execution_count": 4,
   "id": "fad26e53-8b66-4b68-82a8-7fe9254fcbf0",
   "metadata": {},
   "outputs": [
    {
     "name": "stdout",
     "output_type": "stream",
     "text": [
      "Total rows in the DataFrame: 595684\n"
     ]
    }
   ],
   "source": [
    "raw = pd.read_csv(\"500k_dataset.csv\")\n",
    "\n",
    "selected_columns = ['Color', 'Turbidity', 'Copper', 'Manganese', 'Chloride', 'Iron','Fluoride', 'Nitrate',\n",
    "                    'Odor', 'Chlorine', 'Sulfate', 'Total Dissolved Solids', 'Zinc', 'Lead', 'pH', 'Target']\n",
    "data = raw.loc[:, selected_columns]\n",
    "print(\"Total rows in the DataFrame:\", len(data))"
   ]
  },
  {
   "cell_type": "code",
   "execution_count": 5,
   "id": "459d0bb5-509f-42d0-8a41-6d10ab6fe83f",
   "metadata": {},
   "outputs": [
    {
     "name": "stdout",
     "output_type": "stream",
     "text": [
      "handle missing value took: 0.13 s\n"
     ]
    }
   ],
   "source": [
    "# handle missing values\n",
    "start = time.time()\n",
    "\n",
    "# cat_imputer = SimpleImputer(strategy='most_frequent')\n",
    "# # num_imputer = IterativeImputer(estimator=RandomForestRegressor(n_estimators=5, random_state=0, n_jobs=-1), max_iter=5)\n",
    "# # num_imputer = KNNImputer(n_neighbors=2)\n",
    "\n",
    "# cat_cols = data.select_dtypes(include=['object']).columns\n",
    "# num_cols = data.select_dtypes(exclude=['object']).columns\n",
    "\n",
    "# data[cat_cols] = cat_imputer.fit_transform(data[cat_cols])\n",
    "# # data[num_cols] = num_imputer.fit_transform(data[num_cols])\n",
    "# for col in num_cols:\n",
    "#     data[col] = data[col].interpolate(method='linear')\n",
    "\n",
    "data.dropna(subset=data.columns, inplace=True)\n",
    "\n",
    "print(\"handle missing value took: {:.2f} s\".format(time.time() - start))"
   ]
  },
  {
   "cell_type": "code",
   "execution_count": 6,
   "id": "90cf24d8-2ee2-4be4-a8a7-22f68c70053b",
   "metadata": {},
   "outputs": [],
   "source": [
    "color_dict = {\n",
    "    'Colorless': 0,\n",
    "    'Near Colorless': 1,\n",
    "    'Faint Yellow': 2,\n",
    "    'Light Yellow': 3,\n",
    "    'Yellow': 4\n",
    "}\n",
    "data['Color'] = data['Color'].map(color_dict)"
   ]
  },
  {
   "cell_type": "code",
   "execution_count": 7,
   "id": "ceb0e74b-88bb-4728-8739-e0d8ade462d5",
   "metadata": {},
   "outputs": [],
   "source": [
    "# from sklearn.preprocessing import MinMaxScaler\n",
    "\n",
    "# # # normalization\n",
    "# start = time.time()\n",
    "\n",
    "# normalize_columns = ['Iron', 'Lead', 'Copper', 'Manganese', 'Fluoride', 'Turbidity', 'Zinc',\n",
    "#                      'Nitrate', 'Chloride', 'Sulfate', 'Chlorine', 'Total Dissolved Solids']\n",
    "# min_max_scaler = MinMaxScaler()\n",
    "\n",
    "# for col in normalize_columns:\n",
    "#     if col in data.columns:\n",
    "#         data[col] = min_max_scaler.fit_transform(data[[col]])\n",
    "        \n",
    "# print(\"normalization took: {:.2f} s\".format(time.time() - start))"
   ]
  },
  {
   "cell_type": "code",
   "execution_count": 8,
   "id": "1f4af8b0-4f33-4efd-ac60-b5191d2eeff5",
   "metadata": {},
   "outputs": [
    {
     "name": "stdout",
     "output_type": "stream",
     "text": [
      "handle outliers took: 0.11 s\n"
     ]
    }
   ],
   "source": [
    "# handle outliers\n",
    "start = time.time()\n",
    "\n",
    "handle_upper_cols = ['Iron', 'Lead', 'Zinc', 'Turbidity', 'Fluoride', 'Copper', 'Manganese', 'Nitrate',\n",
    "                     'Chloride','Sulfate','Chlorine','Water Temperature','Air Temperature']\n",
    "handle_lower_cols = ['Nitrate','Chloride', 'Sulfate','Chlorine', 'Air Temperature']\n",
    "\n",
    "for col in data.columns:\n",
    "    if data[col].dtype == 'object':\n",
    "        continue\n",
    "    lower, upper = np.percentile(data[col], [1, 99])\n",
    "    if col in handle_upper_cols:\n",
    "        data.loc[data[col] > upper, col] = upper\n",
    "    if col in handle_lower_cols:\n",
    "        data.loc[data[col] < lower, col] = lower\n",
    "\n",
    "print(\"handle outliers took: {:.2f} s\".format(time.time() - start))"
   ]
  },
  {
   "cell_type": "code",
   "execution_count": 9,
   "id": "b67f43ff-9cea-4005-bd00-63c774ba0201",
   "metadata": {},
   "outputs": [
    {
     "name": "stdout",
     "output_type": "stream",
     "text": [
      "handle distribution took: 0.07 s\n"
     ]
    }
   ],
   "source": [
    "# handle distribution\n",
    "\n",
    "start = time.time()\n",
    "\n",
    "# from scipy.stats import yeojohnson\n",
    "# for col in ['Nitrate','Chloride','Turbidity','Sulfate']:\n",
    "#     if col in data.columns:\n",
    "#         data[col] = np.log1p(data[col])\n",
    "\n",
    "# for col in ['Iron','Lead','Manganese']:\n",
    "#     if col in data.columns:\n",
    "#         data[col], _ = yeojohnson(data[col])\n",
    "\n",
    "scaler = StandardScaler()\n",
    "for col in ['Conductivity', 'Total Dissolved Solids', 'Water Temperature', 'Air Temperature']:\n",
    "    if col not in data.columns:\n",
    "        continue\n",
    "    data[col] = scaler.fit_transform(data[[col]])\n",
    "\n",
    "print(\"handle distribution took: {:.2f} s\".format(time.time() - start))"
   ]
  },
  {
   "cell_type": "code",
   "execution_count": 10,
   "id": "df9cc5a7-844e-45bc-acb5-a0a4c7d6046f",
   "metadata": {},
   "outputs": [
    {
     "name": "stdout",
     "output_type": "stream",
     "text": [
      "discretize features took: 0.06 s\n"
     ]
    }
   ],
   "source": [
    "# discretize features\n",
    "start = time.time()\n",
    "\n",
    "discretized_features = ['pH', 'Odor']\n",
    "labels_dict = {\n",
    "    'pH': ['Acidic', 'Neutral', 'Alkaline'],\n",
    "    'Odor': ['No Odor', 'Slight Odor', 'Noticeable Odor', 'Strong Odor']\n",
    "}\n",
    "\n",
    "data['pH'] = pd.cut(data['pH'], bins=[0, 6, 8.5, 14], labels=labels_dict['pH'], include_lowest=True)\n",
    "data['Odor'] = pd.cut(data['Odor'], bins=[-np.inf, 1, 2, 3, np.inf], labels=labels_dict['Odor'], include_lowest=True)\n",
    "\n",
    "# transform labels to numerics\n",
    "for _, column in enumerate(discretized_features):\n",
    "    if column not in data:\n",
    "        continue\n",
    "    if column in labels_dict:\n",
    "        labels = labels_dict[column]\n",
    "        category = pd.Categorical(data[column], categories=labels, ordered=True)\n",
    "        data[column] = category.codes\n",
    "    else:\n",
    "        codes, labels = pd.factorize(data[column])\n",
    "        data[column] = codes\n",
    "\n",
    "print(\"discretize features took: {:.2f} s\".format(time.time() - start))"
   ]
  },
  {
   "cell_type": "code",
   "execution_count": 11,
   "id": "69562fce-3246-4162-9f68-d2435bd87c8b",
   "metadata": {},
   "outputs": [
    {
     "name": "stdout",
     "output_type": "stream",
     "text": [
      "drop duplicates took: 0.41 s\n",
      "\n",
      "There are 0 missing values in the data.\n",
      "There are 0 duplicate records in the data.\n"
     ]
    },
    {
     "data": {
      "text/html": [
       "<div>\n",
       "<style scoped>\n",
       "    .dataframe tbody tr th:only-of-type {\n",
       "        vertical-align: middle;\n",
       "    }\n",
       "\n",
       "    .dataframe tbody tr th {\n",
       "        vertical-align: top;\n",
       "    }\n",
       "\n",
       "    .dataframe thead th {\n",
       "        text-align: right;\n",
       "    }\n",
       "</style>\n",
       "<table border=\"1\" class=\"dataframe\">\n",
       "  <thead>\n",
       "    <tr style=\"text-align: right;\">\n",
       "      <th></th>\n",
       "      <th>Color</th>\n",
       "      <th>Turbidity</th>\n",
       "      <th>Copper</th>\n",
       "      <th>Manganese</th>\n",
       "      <th>Chloride</th>\n",
       "      <th>Iron</th>\n",
       "      <th>Fluoride</th>\n",
       "      <th>Nitrate</th>\n",
       "      <th>Odor</th>\n",
       "      <th>Chlorine</th>\n",
       "      <th>Sulfate</th>\n",
       "      <th>Total Dissolved Solids</th>\n",
       "      <th>Zinc</th>\n",
       "      <th>Lead</th>\n",
       "      <th>pH</th>\n",
       "      <th>Target</th>\n",
       "    </tr>\n",
       "  </thead>\n",
       "  <tbody>\n",
       "    <tr>\n",
       "      <th>0</th>\n",
       "      <td>4</td>\n",
       "      <td>0.231956</td>\n",
       "      <td>0.715433</td>\n",
       "      <td>4.484932e-01</td>\n",
       "      <td>119.769705</td>\n",
       "      <td>1.154674e-17</td>\n",
       "      <td>2.108228</td>\n",
       "      <td>7.631200</td>\n",
       "      <td>1</td>\n",
       "      <td>3.270075</td>\n",
       "      <td>230.194138</td>\n",
       "      <td>-1.125526</td>\n",
       "      <td>2.693937</td>\n",
       "      <td>6.350348e-86</td>\n",
       "      <td>1</td>\n",
       "      <td>1</td>\n",
       "    </tr>\n",
       "    <tr>\n",
       "      <th>1</th>\n",
       "      <td>3</td>\n",
       "      <td>1.051458</td>\n",
       "      <td>0.773502</td>\n",
       "      <td>1.540051e+00</td>\n",
       "      <td>150.015099</td>\n",
       "      <td>3.600729e-03</td>\n",
       "      <td>1.422666</td>\n",
       "      <td>11.236134</td>\n",
       "      <td>0</td>\n",
       "      <td>4.001868</td>\n",
       "      <td>88.068009</td>\n",
       "      <td>-1.156116</td>\n",
       "      <td>3.590989</td>\n",
       "      <td>3.992670e-61</td>\n",
       "      <td>2</td>\n",
       "      <td>1</td>\n",
       "    </tr>\n",
       "    <tr>\n",
       "      <th>2</th>\n",
       "      <td>1</td>\n",
       "      <td>0.001308</td>\n",
       "      <td>0.037652</td>\n",
       "      <td>3.190700e-07</td>\n",
       "      <td>126.665161</td>\n",
       "      <td>2.242093e-01</td>\n",
       "      <td>0.718139</td>\n",
       "      <td>9.838300</td>\n",
       "      <td>3</td>\n",
       "      <td>3.743012</td>\n",
       "      <td>92.617198</td>\n",
       "      <td>0.828813</td>\n",
       "      <td>1.265744</td>\n",
       "      <td>8.205945e-08</td>\n",
       "      <td>1</td>\n",
       "      <td>0</td>\n",
       "    </tr>\n",
       "    <tr>\n",
       "      <th>3</th>\n",
       "      <td>1</td>\n",
       "      <td>0.001784</td>\n",
       "      <td>0.206894</td>\n",
       "      <td>7.835654e-03</td>\n",
       "      <td>90.619648</td>\n",
       "      <td>9.019033e-08</td>\n",
       "      <td>0.139084</td>\n",
       "      <td>4.363331</td>\n",
       "      <td>1</td>\n",
       "      <td>3.854285</td>\n",
       "      <td>209.857103</td>\n",
       "      <td>-0.422200</td>\n",
       "      <td>1.583872</td>\n",
       "      <td>1.850471e-138</td>\n",
       "      <td>1</td>\n",
       "      <td>0</td>\n",
       "    </tr>\n",
       "    <tr>\n",
       "      <th>4</th>\n",
       "      <td>2</td>\n",
       "      <td>0.733317</td>\n",
       "      <td>1.005681</td>\n",
       "      <td>8.823558e-07</td>\n",
       "      <td>212.130670</td>\n",
       "      <td>9.183142e-07</td>\n",
       "      <td>0.179237</td>\n",
       "      <td>9.636736</td>\n",
       "      <td>0</td>\n",
       "      <td>2.222523</td>\n",
       "      <td>117.492988</td>\n",
       "      <td>0.171229</td>\n",
       "      <td>0.800412</td>\n",
       "      <td>7.907960e-56</td>\n",
       "      <td>1</td>\n",
       "      <td>0</td>\n",
       "    </tr>\n",
       "  </tbody>\n",
       "</table>\n",
       "</div>"
      ],
      "text/plain": [
       "   Color  Turbidity    Copper     Manganese    Chloride          Iron  \\\n",
       "0      4   0.231956  0.715433  4.484932e-01  119.769705  1.154674e-17   \n",
       "1      3   1.051458  0.773502  1.540051e+00  150.015099  3.600729e-03   \n",
       "2      1   0.001308  0.037652  3.190700e-07  126.665161  2.242093e-01   \n",
       "3      1   0.001784  0.206894  7.835654e-03   90.619648  9.019033e-08   \n",
       "4      2   0.733317  1.005681  8.823558e-07  212.130670  9.183142e-07   \n",
       "\n",
       "   Fluoride    Nitrate  Odor  Chlorine     Sulfate  Total Dissolved Solids  \\\n",
       "0  2.108228   7.631200     1  3.270075  230.194138               -1.125526   \n",
       "1  1.422666  11.236134     0  4.001868   88.068009               -1.156116   \n",
       "2  0.718139   9.838300     3  3.743012   92.617198                0.828813   \n",
       "3  0.139084   4.363331     1  3.854285  209.857103               -0.422200   \n",
       "4  0.179237   9.636736     0  2.222523  117.492988                0.171229   \n",
       "\n",
       "       Zinc           Lead  pH  Target  \n",
       "0  2.693937   6.350348e-86   1       1  \n",
       "1  3.590989   3.992670e-61   2       1  \n",
       "2  1.265744   8.205945e-08   1       0  \n",
       "3  1.583872  1.850471e-138   1       0  \n",
       "4  0.800412   7.907960e-56   1       0  "
      ]
     },
     "metadata": {},
     "output_type": "display_data"
    }
   ],
   "source": [
    "# drop duplicated rows\n",
    "start = time.time()\n",
    "\n",
    "data = data.drop_duplicates()\n",
    "\n",
    "print(\"drop duplicates took: {:.2f} s\".format(time.time() - start))\n",
    "\n",
    "missing = data.isna().sum().sum()\n",
    "duplicates = data.duplicated().sum()\n",
    "print(\"\\nThere are {:,.0f} missing values in the data.\".format(missing))\n",
    "print(\"There are {:,.0f} duplicate records in the data.\".format(duplicates))\n",
    "display(data.head())"
   ]
  },
  {
   "cell_type": "code",
   "execution_count": 12,
   "id": "b21731d8-9022-4f90-8d27-4bf8f24f321e",
   "metadata": {},
   "outputs": [],
   "source": [
    "def prepare_train_test_data(data, target_col, test_size):\n",
    "    \n",
    "    \"\"\"\n",
    "    Function to scale and split the data into training and test sets\n",
    "    \"\"\"\n",
    "    \n",
    "    scaler = RobustScaler()   \n",
    "    X = data.drop(target_col, axis=1)\n",
    "    y = data[target_col]\n",
    "    X_train, X_test, y_train, y_test = train_test_split(X, y, test_size=test_size, random_state=21)\n",
    "    X_train_scaled = scaler.fit_transform(X_train)\n",
    "    X_test_scaled = scaler.transform(X_test)\n",
    "    print(\"Train Shape: {}\".format(X_train_scaled.shape))\n",
    "    print(\"Test Shape: {}\".format(X_test_scaled.shape))\n",
    "    \n",
    "    return X_train_scaled, X_test_scaled, y_train, y_test"
   ]
  },
  {
   "cell_type": "code",
   "execution_count": 13,
   "id": "4445e6c9-9223-4a40-9e36-17c19386f1b6",
   "metadata": {},
   "outputs": [
    {
     "name": "stdout",
     "output_type": "stream",
     "text": [
      "Preparing Train and Test datasets\n",
      "Train Shape: (338796, 15)\n",
      "Test Shape: (112932, 15)\n"
     ]
    }
   ],
   "source": [
    "## Prepare Train and Test datasets ##\n",
    "print(\"Preparing Train and Test datasets\")\n",
    "X_train, X_test, y_train, y_test = prepare_train_test_data(data=data, target_col='Target', test_size=.25)"
   ]
  },
  {
   "cell_type": "code",
   "execution_count": 14,
   "id": "66a66930-e4a5-403f-ada9-96c2e7154c8e",
   "metadata": {},
   "outputs": [],
   "source": [
    "# # Initialize SVC model with the best hyperparameters ##\n",
    "# parameters = {\n",
    "#     'class_weight': 'balanced',\n",
    "#     'probability': True,\n",
    "#     'random_state': 21,\n",
    "#     'C': 1.0,\n",
    "#     'kernel': 'rbf'\n",
    "# }\n",
    "# svc = SVC(**parameters)\n",
    "\n",
    "# ## Fit the model ##\n",
    "# start_fit = time.time()\n",
    "# print(\"\\nFitting the model..\")\n",
    "# svc.fit(X_train, y_train)\n",
    "# print(\"Fit took: \", time.time() - start_fit)\n",
    "\n",
    "# svc_prob = svc.predict_proba(X_test)[:,1]\n",
    "# svc_pred = pd.Series(svc.predict(X_test), name='Target')\n",
    "# svc_auc = roc_auc_score(y_test, svc_prob)\n",
    "# svc_f1 = f1_score(y_test, svc_pred)  \n",
    "\n",
    "# ## Print model results ##\n",
    "# print(\"\\nSVC Test F1 accuracy: {:.2f}%, AUC: {:.5f}\".format(svc_f1*100,svc_auc))"
   ]
  },
  {
   "cell_type": "code",
   "execution_count": 15,
   "id": "00eb6fcd-0aea-429c-8a3e-58ed2ca0a13b",
   "metadata": {},
   "outputs": [
    {
     "name": "stdout",
     "output_type": "stream",
     "text": [
      "\n",
      "Fitting the model..\n",
      "Fit took:  0.5682427883148193\n",
      "\n",
      "XGB Test F1 accuracy: 81.92%, AUC: 0.91545\n"
     ]
    }
   ],
   "source": [
    "## Initialize XGBoost model with the best hyperparameters ##\n",
    "ratio = float(np.sum(y_train == 0)) / np.sum(y_train == 1)\n",
    "best_hyperparameters = {\n",
    "    'scale_pos_weight': ratio.round(2), \n",
    "    'tree_method': 'hist',\n",
    "    'random_state': 21,\n",
    "#     'gamma': 5, 'max_depth': 5, 'min_child_weight': 5\n",
    "#     'gamma': 1.5, 'max_depth': 5, 'min_child_weight': 1\n",
    "#     'gamma': 1, 'max_depth': 5, 'min_child_weight': 10\n",
    "    'gamma': 0.5, 'max_depth': 5, 'min_child_weight': 5\n",
    "}\n",
    "xgb = XGBClassifier(**best_hyperparameters)\n",
    "\n",
    "print(\"\\nFitting the model..\")\n",
    "start_fit = time.time()\n",
    "xgb.fit(X_train, y_train)\n",
    "print(\"Fit took: \", time.time() - start_fit)\n",
    "\n",
    "xgb_prob = xgb.predict_proba(X_test)[:,1]\n",
    "xgb_pred = pd.Series(xgb.predict(X_test), name='Target')\n",
    "xgb_auc = roc_auc_score(y_test, xgb_prob)\n",
    "xgb_f1 = f1_score(y_test, xgb_pred)  \n",
    "\n",
    "## Print model results ##\n",
    "print(\"\\nXGB Test F1 accuracy: {:.2f}%, AUC: {:.5f}\".format(xgb_f1*100,xgb_auc))"
   ]
  },
  {
   "cell_type": "code",
   "execution_count": 16,
   "id": "4ea72bc4-cbd3-4c9f-81da-77e5c4bfa00e",
   "metadata": {},
   "outputs": [
    {
     "name": "stdout",
     "output_type": "stream",
     "text": [
      "\n",
      "Fitting the model..\n",
      "Fit took:  11.60996127128601\n",
      "\n",
      "RF Test F1 accuracy: 82.33%, AUC: 0.91513\n"
     ]
    }
   ],
   "source": [
    "## Initialize RandomForest model with the best hyperparameters ##\n",
    "ratio = float(np.sum(y_train == 0)) / np.sum(y_train == 1)\n",
    "best_hyperparameters = {\n",
    "    'class_weight': 'balanced',\n",
    "    'random_state': 21,\n",
    "#     'n_estimators': 200, 'min_samples_split': 2, 'min_samples_leaf': 1, 'max_depth': 10, 'bootstrap': True\n",
    "    'n_estimators': 200, 'min_samples_split': 5, 'min_samples_leaf': 1, 'max_depth': 20, 'bootstrap': False\n",
    "}\n",
    "rfc = RandomForestClassifier(**best_hyperparameters)\n",
    "\n",
    "print(\"\\nFitting the model..\")\n",
    "start_fit = time.time()\n",
    "rfc.fit(X_train, y_train)\n",
    "print(\"Fit took: \", time.time() - start_fit)\n",
    "\n",
    "rfc_prob = rfc.predict_proba(X_test)[:,1]\n",
    "rfc_pred = pd.Series(rfc.predict(X_test), name='Target')\n",
    "rfc_auc = roc_auc_score(y_test, rfc_prob)\n",
    "rfc_f1 = f1_score(y_test, rfc_pred)  \n",
    "\n",
    "## Print model results ##\n",
    "print(\"\\nRF Test F1 accuracy: {:.2f}%, AUC: {:.5f}\".format(rfc_f1*100,rfc_auc))"
   ]
  },
  {
   "cell_type": "code",
   "execution_count": 17,
   "id": "a8d54886-0064-4c0a-b2f2-ac7dc1338226",
   "metadata": {},
   "outputs": [
    {
     "name": "stdout",
     "output_type": "stream",
     "text": [
      "\n",
      "Fitting the model..\n",
      "Fit took:  387.7050738334656\n",
      "\n",
      "NN Test F1 accuracy: 82.19%, AUC: 0.91446\n"
     ]
    }
   ],
   "source": [
    "## Initialize RandomForest model with the best hyperparameters ##\n",
    "ratio = float(np.sum(y_train == 0)) / np.sum(y_train == 1)\n",
    "best_hyperparameters = {\n",
    "    'max_iter': 200,\n",
    "    'random_state': 21,\n",
    "#     'solver': 'sgd', 'learning_rate': 'adaptive', 'hidden_layer_sizes': (50, 100, 50), 'alpha': 0.05, 'activation': 'relu'\n",
    "    'solver': 'adam', 'learning_rate': 'constant', 'hidden_layer_sizes': (50, 100, 50), 'alpha': 0.05, 'activation': 'relu'\n",
    "}\n",
    "nn = MLPClassifier(**best_hyperparameters)\n",
    "\n",
    "print(\"\\nFitting the model..\")\n",
    "start_fit = time.time()\n",
    "nn.fit(X_train, y_train)\n",
    "print(\"Fit took: \", time.time() - start_fit)\n",
    "\n",
    "nn_prob = nn.predict_proba(X_test)[:,1]\n",
    "nn_pred = pd.Series(nn.predict(X_test), name='Target')\n",
    "nn_auc = roc_auc_score(y_test, nn_prob)\n",
    "nn_f1 = f1_score(y_test, nn_pred)  \n",
    "\n",
    "## Print model results ##\n",
    "print(\"\\nNN Test F1 accuracy: {:.2f}%, AUC: {:.5f}\".format(nn_f1*100,nn_auc))"
   ]
  },
  {
   "cell_type": "code",
   "execution_count": null,
   "id": "30a5bd64-7496-4ac1-842c-b098f74fd709",
   "metadata": {},
   "outputs": [],
   "source": []
  }
 ],
 "metadata": {
  "kernelspec": {
   "display_name": "Python 3 (Intel® oneAPI 2023.1)",
   "language": "python",
   "name": "c009-intel_distribution_of_python_3_oneapi-beta05-python"
  },
  "language_info": {
   "codemirror_mode": {
    "name": "ipython",
    "version": 3
   },
   "file_extension": ".py",
   "mimetype": "text/x-python",
   "name": "python",
   "nbconvert_exporter": "python",
   "pygments_lexer": "ipython3",
   "version": "3.9.16"
  }
 },
 "nbformat": 4,
 "nbformat_minor": 5
}
